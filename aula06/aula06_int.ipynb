{
 "cells": [
  {
   "cell_type": "code",
   "execution_count": 1,
   "id": "541f8435",
   "metadata": {},
   "outputs": [
    {
     "name": "stdout",
     "output_type": "stream",
     "text": [
      "5\n"
     ]
    }
   ],
   "source": [
    "#Inicializando uma variável do tipo inteiro\n",
    "x = 5\n",
    "print (x)"
   ]
  },
  {
   "cell_type": "code",
   "execution_count": 6,
   "id": "9deff171",
   "metadata": {},
   "outputs": [],
   "source": [
    "y = 23\n",
    "soma = x + y"
   ]
  },
  {
   "cell_type": "code",
   "execution_count": 7,
   "id": "3e6afb9b",
   "metadata": {
    "scrolled": true
   },
   "outputs": [
    {
     "name": "stdout",
     "output_type": "stream",
     "text": [
      "28\n"
     ]
    }
   ],
   "source": [
    "print(soma)"
   ]
  },
  {
   "cell_type": "code",
   "execution_count": 8,
   "id": "d37b22d1",
   "metadata": {},
   "outputs": [
    {
     "data": {
      "text/plain": [
       "int"
      ]
     },
     "execution_count": 8,
     "metadata": {},
     "output_type": "execute_result"
    }
   ],
   "source": [
    "type(x)"
   ]
  },
  {
   "cell_type": "code",
   "execution_count": 9,
   "id": "9e42d221",
   "metadata": {},
   "outputs": [],
   "source": [
    "resultado = y / x"
   ]
  },
  {
   "cell_type": "code",
   "execution_count": 10,
   "id": "045c8dc4",
   "metadata": {},
   "outputs": [
    {
     "data": {
      "text/plain": [
       "4.6"
      ]
     },
     "execution_count": 10,
     "metadata": {},
     "output_type": "execute_result"
    }
   ],
   "source": [
    "resultado"
   ]
  },
  {
   "cell_type": "code",
   "execution_count": 11,
   "id": "7e3cc7c2",
   "metadata": {},
   "outputs": [
    {
     "data": {
      "text/plain": [
       "float"
      ]
     },
     "execution_count": 11,
     "metadata": {},
     "output_type": "execute_result"
    }
   ],
   "source": [
    "type(resultado)"
   ]
  },
  {
   "cell_type": "code",
   "execution_count": 12,
   "id": "38d9d910",
   "metadata": {},
   "outputs": [
    {
     "name": "stdout",
     "output_type": "stream",
     "text": [
      "6436343\n"
     ]
    }
   ],
   "source": [
    "z = y **x\n",
    "print (z)"
   ]
  },
  {
   "cell_type": "code",
   "execution_count": 13,
   "id": "422a554c",
   "metadata": {},
   "outputs": [
    {
     "data": {
      "text/plain": [
       "115"
      ]
     },
     "execution_count": 13,
     "metadata": {},
     "output_type": "execute_result"
    }
   ],
   "source": [
    "w = y * x\n",
    "w"
   ]
  },
  {
   "cell_type": "code",
   "execution_count": 14,
   "id": "a873f205",
   "metadata": {},
   "outputs": [],
   "source": [
    "z = 6_436_343"
   ]
  },
  {
   "cell_type": "code",
   "execution_count": 15,
   "id": "ad57b573",
   "metadata": {},
   "outputs": [
    {
     "data": {
      "text/plain": [
       "6436343"
      ]
     },
     "execution_count": 15,
     "metadata": {},
     "output_type": "execute_result"
    }
   ],
   "source": [
    "z"
   ]
  },
  {
   "cell_type": "code",
   "execution_count": 16,
   "id": "74a85d72",
   "metadata": {},
   "outputs": [
    {
     "name": "stdout",
     "output_type": "stream",
     "text": [
      "125\n",
      "1250\n",
      "125.0\n",
      "115.0\n"
     ]
    }
   ],
   "source": [
    "w += 10 # w = w + 10\n",
    "print (w)\n",
    "w *= 10 # w = w * 10\n",
    "print (w)\n",
    "w /= 10 # w = w  / 10\n",
    "print (w)\n",
    "w -= 10 # w = w  - 10\n",
    "print (w)"
   ]
  },
  {
   "cell_type": "code",
   "execution_count": null,
   "id": "92ec9f00",
   "metadata": {},
   "outputs": [],
   "source": []
  }
 ],
 "metadata": {
  "kernelspec": {
   "display_name": "Python 3 (ipykernel)",
   "language": "python",
   "name": "python3"
  },
  "language_info": {
   "codemirror_mode": {
    "name": "ipython",
    "version": 3
   },
   "file_extension": ".py",
   "mimetype": "text/x-python",
   "name": "python",
   "nbconvert_exporter": "python",
   "pygments_lexer": "ipython3",
   "version": "3.11.5"
  }
 },
 "nbformat": 4,
 "nbformat_minor": 5
}
